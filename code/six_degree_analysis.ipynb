{
  "nbformat": 4,
  "nbformat_minor": 0,
  "metadata": {
    "colab": {
      "name": "six_degree_analysis",
      "provenance": []
    },
    "kernelspec": {
      "name": "python3",
      "display_name": "Python 3"
    },
    "language_info": {
      "name": "python"
    }
  },
  "cells": [
    {
      "cell_type": "code",
      "metadata": {
        "colab": {
          "base_uri": "https://localhost:8080/"
        },
        "id": "nfEFEFQ9B9SC",
        "outputId": "6835166d-bfbf-4b84-a98c-7a95c1d33894"
      },
      "source": [
        "!pip install pyspark\n",
        "!pip install -U -q PyDrive\n",
        "!apt install openjdk-8-jdk-headless -qq\n",
        "import os\n",
        "os.environ[\"JAVA_HOME\"] = \"/usr/lib/jvm/java-8-openjdk-amd64\""
      ],
      "execution_count": null,
      "outputs": [
        {
          "output_type": "stream",
          "text": [
            "Requirement already satisfied: pyspark in /usr/local/lib/python3.7/dist-packages (3.1.1)\n",
            "Requirement already satisfied: py4j==0.10.9 in /usr/local/lib/python3.7/dist-packages (from pyspark) (0.10.9)\n",
            "openjdk-8-jdk-headless is already the newest version (8u282-b08-0ubuntu1~18.04).\n",
            "The following package was automatically installed and is no longer required:\n",
            "  libnvidia-common-460\n",
            "Use 'apt autoremove' to remove it.\n",
            "0 upgraded, 0 newly installed, 0 to remove and 34 not upgraded.\n"
          ],
          "name": "stdout"
        }
      ]
    },
    {
      "cell_type": "code",
      "metadata": {
        "id": "3eo6EeQwCdVx"
      },
      "source": [
        "import pandas as pd\n",
        "import numpy as np\n",
        "import networkx as nx\n",
        "import random\n",
        "import matplotlib.pyplot as plt\n",
        "%matplotlib inline\n",
        "\n",
        "import pyspark\n",
        "from pyspark.sql import *\n",
        "from pyspark.sql.types import *\n",
        "from pyspark.sql.functions import *\n",
        "from pyspark import SparkContext, SparkConf"
      ],
      "execution_count": null,
      "outputs": []
    },
    {
      "cell_type": "code",
      "metadata": {
        "colab": {
          "base_uri": "https://localhost:8080/"
        },
        "id": "PUHm-7C3Chrc",
        "outputId": "de6965d8-6fa2-47c1-a1f8-0436d6ebfb64"
      },
      "source": [
        "from google.colab import drive\n",
        "drive.mount('/content/drive')"
      ],
      "execution_count": null,
      "outputs": [
        {
          "output_type": "stream",
          "text": [
            "Drive already mounted at /content/drive; to attempt to forcibly remount, call drive.mount(\"/content/drive\", force_remount=True).\n"
          ],
          "name": "stdout"
        }
      ]
    },
    {
      "cell_type": "code",
      "metadata": {
        "colab": {
          "base_uri": "https://localhost:8080/"
        },
        "id": "UFNO5D_ICh5K",
        "outputId": "17419647-a5d9-462d-c9c7-d6ad728bdaa3"
      },
      "source": [
        "import os\n",
        "cur_path = \"/content/drive/MyDrive/Colab Notebooks/big_data/Final_Project/\"\n",
        "os.chdir(cur_path)\n",
        "!pwd"
      ],
      "execution_count": null,
      "outputs": [
        {
          "output_type": "stream",
          "text": [
            "/content/drive/MyDrive/Colab Notebooks/big_data/Final_Project\n"
          ],
          "name": "stdout"
        }
      ]
    },
    {
      "cell_type": "markdown",
      "metadata": {
        "id": "P4pZGJioCkb7"
      },
      "source": [
        "Create spark session"
      ]
    },
    {
      "cell_type": "code",
      "metadata": {
        "id": "DW93T3fwCmTs"
      },
      "source": [
        "# create the session\n",
        "conf = SparkConf().set(\"spark.ui.port\", \"4050\")\n",
        "\n",
        "# create the context\n",
        "sc = pyspark.SparkContext(conf=conf)\n",
        "spark = SparkSession.builder.getOrCreate()"
      ],
      "execution_count": null,
      "outputs": []
    },
    {
      "cell_type": "code",
      "metadata": {
        "id": "hXM3zqxgEQZM"
      },
      "source": [
        "df = spark.read.csv(\"netflix_titles.csv\", header=True)\n",
        "df = pd.read_csv(\"netflix_titles.csv\")"
      ],
      "execution_count": null,
      "outputs": []
    },
    {
      "cell_type": "code",
      "metadata": {
        "colab": {
          "base_uri": "https://localhost:8080/",
          "height": 669
        },
        "id": "nJwFSwOmhxs5",
        "outputId": "7ac60e7b-4deb-4f52-f0a0-d14cd81b68be"
      },
      "source": [
        "df.head()"
      ],
      "execution_count": null,
      "outputs": [
        {
          "output_type": "execute_result",
          "data": {
            "text/html": [
              "<div>\n",
              "<style scoped>\n",
              "    .dataframe tbody tr th:only-of-type {\n",
              "        vertical-align: middle;\n",
              "    }\n",
              "\n",
              "    .dataframe tbody tr th {\n",
              "        vertical-align: top;\n",
              "    }\n",
              "\n",
              "    .dataframe thead th {\n",
              "        text-align: right;\n",
              "    }\n",
              "</style>\n",
              "<table border=\"1\" class=\"dataframe\">\n",
              "  <thead>\n",
              "    <tr style=\"text-align: right;\">\n",
              "      <th></th>\n",
              "      <th>show_id</th>\n",
              "      <th>type</th>\n",
              "      <th>title</th>\n",
              "      <th>director</th>\n",
              "      <th>cast</th>\n",
              "      <th>country</th>\n",
              "      <th>date_added</th>\n",
              "      <th>release_year</th>\n",
              "      <th>rating</th>\n",
              "      <th>duration</th>\n",
              "      <th>listed_in</th>\n",
              "      <th>description</th>\n",
              "    </tr>\n",
              "  </thead>\n",
              "  <tbody>\n",
              "    <tr>\n",
              "      <th>0</th>\n",
              "      <td>s1</td>\n",
              "      <td>TV Show</td>\n",
              "      <td>3%</td>\n",
              "      <td>NaN</td>\n",
              "      <td>João Miguel, Bianca Comparato, Michel Gomes, R...</td>\n",
              "      <td>Brazil</td>\n",
              "      <td>August 14, 2020</td>\n",
              "      <td>2020</td>\n",
              "      <td>TV-MA</td>\n",
              "      <td>4 Seasons</td>\n",
              "      <td>International TV Shows, TV Dramas, TV Sci-Fi &amp;...</td>\n",
              "      <td>In a future where the elite inhabit an island ...</td>\n",
              "    </tr>\n",
              "    <tr>\n",
              "      <th>1</th>\n",
              "      <td>s2</td>\n",
              "      <td>Movie</td>\n",
              "      <td>7:19</td>\n",
              "      <td>Jorge Michel Grau</td>\n",
              "      <td>Demián Bichir, Héctor Bonilla, Oscar Serrano, ...</td>\n",
              "      <td>Mexico</td>\n",
              "      <td>December 23, 2016</td>\n",
              "      <td>2016</td>\n",
              "      <td>TV-MA</td>\n",
              "      <td>93 min</td>\n",
              "      <td>Dramas, International Movies</td>\n",
              "      <td>After a devastating earthquake hits Mexico Cit...</td>\n",
              "    </tr>\n",
              "    <tr>\n",
              "      <th>2</th>\n",
              "      <td>s3</td>\n",
              "      <td>Movie</td>\n",
              "      <td>23:59</td>\n",
              "      <td>Gilbert Chan</td>\n",
              "      <td>Tedd Chan, Stella Chung, Henley Hii, Lawrence ...</td>\n",
              "      <td>Singapore</td>\n",
              "      <td>December 20, 2018</td>\n",
              "      <td>2011</td>\n",
              "      <td>R</td>\n",
              "      <td>78 min</td>\n",
              "      <td>Horror Movies, International Movies</td>\n",
              "      <td>When an army recruit is found dead, his fellow...</td>\n",
              "    </tr>\n",
              "    <tr>\n",
              "      <th>3</th>\n",
              "      <td>s4</td>\n",
              "      <td>Movie</td>\n",
              "      <td>9</td>\n",
              "      <td>Shane Acker</td>\n",
              "      <td>Elijah Wood, John C. Reilly, Jennifer Connelly...</td>\n",
              "      <td>United States</td>\n",
              "      <td>November 16, 2017</td>\n",
              "      <td>2009</td>\n",
              "      <td>PG-13</td>\n",
              "      <td>80 min</td>\n",
              "      <td>Action &amp; Adventure, Independent Movies, Sci-Fi...</td>\n",
              "      <td>In a postapocalyptic world, rag-doll robots hi...</td>\n",
              "    </tr>\n",
              "    <tr>\n",
              "      <th>4</th>\n",
              "      <td>s5</td>\n",
              "      <td>Movie</td>\n",
              "      <td>21</td>\n",
              "      <td>Robert Luketic</td>\n",
              "      <td>Jim Sturgess, Kevin Spacey, Kate Bosworth, Aar...</td>\n",
              "      <td>United States</td>\n",
              "      <td>January 1, 2020</td>\n",
              "      <td>2008</td>\n",
              "      <td>PG-13</td>\n",
              "      <td>123 min</td>\n",
              "      <td>Dramas</td>\n",
              "      <td>A brilliant group of students become card-coun...</td>\n",
              "    </tr>\n",
              "  </tbody>\n",
              "</table>\n",
              "</div>"
            ],
            "text/plain": [
              "  show_id  ...                                        description\n",
              "0      s1  ...  In a future where the elite inhabit an island ...\n",
              "1      s2  ...  After a devastating earthquake hits Mexico Cit...\n",
              "2      s3  ...  When an army recruit is found dead, his fellow...\n",
              "3      s4  ...  In a postapocalyptic world, rag-doll robots hi...\n",
              "4      s5  ...  A brilliant group of students become card-coun...\n",
              "\n",
              "[5 rows x 12 columns]"
            ]
          },
          "metadata": {
            "tags": []
          },
          "execution_count": 10
        }
      ]
    },
    {
      "cell_type": "markdown",
      "metadata": {
        "id": "3LFi5uPbJMRL"
      },
      "source": [
        "Preprocess the datatype"
      ]
    },
    {
      "cell_type": "code",
      "metadata": {
        "id": "3YMir6gt71df"
      },
      "source": [
        "df = df.dropna(how='any')"
      ],
      "execution_count": null,
      "outputs": []
    },
    {
      "cell_type": "code",
      "metadata": {
        "id": "atvT7EfTFuXY"
      },
      "source": [
        "G = nx.Graph()\n",
        "added_actor = []\n",
        " \n",
        "def add_movie_and_actors_to_graph(row):\n",
        "    G.add_node(row.title, type ='movie', color='blue')\n",
        "    for actor in row.cast.split(\", \"):\n",
        "        if actor not in added_actor:\n",
        "            G.add_node(actor, type = 'actor', color = ('red' if actor=='Kevin Bacon' else 'green'))\n",
        "            added_actor.append(actor)\n",
        "        G.add_edge(row.title, actor)"
      ],
      "execution_count": null,
      "outputs": []
    },
    {
      "cell_type": "code",
      "metadata": {
        "id": "yIv2EFT9LSPG"
      },
      "source": [
        "_ = df.apply(lambda r: add_movie_and_actors_to_graph(r), axis=1)"
      ],
      "execution_count": null,
      "outputs": []
    },
    {
      "cell_type": "code",
      "metadata": {
        "id": "N2Sc9M_Nj2G3"
      },
      "source": [
        "import multiprocessing\n",
        "pool = multiprocessing.Pool(processes = 5)"
      ],
      "execution_count": null,
      "outputs": []
    },
    {
      "cell_type": "code",
      "metadata": {
        "id": "6w0zoknOjeOC"
      },
      "source": [
        "actor_list = added_actor.copy()\n",
        "\n",
        "def compute_distance(a, b, x):\n",
        "  try: \n",
        "    path = nx.shortest_path(G, source=a, target=b)\n",
        "    dis = int(len(path)/2)\n",
        "    return dis\n",
        "  except:\n",
        "    x+=1"
      ],
      "execution_count": null,
      "outputs": []
    },
    {
      "cell_type": "code",
      "metadata": {
        "id": "M0iD6iQXnTHN"
      },
      "source": [
        "max_distance = 0\n",
        "min_distance = 0\n",
        "no_pairs = 0\n",
        "results = []\n",
        "results_list = []"
      ],
      "execution_count": null,
      "outputs": []
    },
    {
      "cell_type": "code",
      "metadata": {
        "colab": {
          "base_uri": "https://localhost:8080/"
        },
        "id": "aBWmHwzx4AmR",
        "outputId": "761b6e8e-6071-4328-bcb1-d979c9be8157"
      },
      "source": [
        "len(added_actor)"
      ],
      "execution_count": null,
      "outputs": [
        {
          "output_type": "execute_result",
          "data": {
            "text/plain": [
              "23215"
            ]
          },
          "metadata": {
            "tags": []
          },
          "execution_count": 125
        }
      ]
    },
    {
      "cell_type": "code",
      "metadata": {
        "id": "OGC0voe-r3GK"
      },
      "source": [
        "for j in actor_list:\n",
        "  if j != 'Kevin Bacon':\n",
        "    results.append(pool.apply_async(compute_distance, args=['Demián Bichir',j, no_pairs]))\n",
        "\n",
        "pool.close()\n",
        "pool.join()\n",
        "for result in results:\n",
        "    num = result.get()\n",
        "    if num:\n",
        "      results_list.append(num)"
      ],
      "execution_count": null,
      "outputs": []
    },
    {
      "cell_type": "code",
      "metadata": {
        "colab": {
          "base_uri": "https://localhost:8080/"
        },
        "id": "7dRrb5oP3DHi",
        "outputId": "274f9db0-690a-4512-dfb3-e838482ab798"
      },
      "source": [
        "sorted(results_list, reverse=True)[0:10]"
      ],
      "execution_count": null,
      "outputs": [
        {
          "output_type": "execute_result",
          "data": {
            "text/plain": [
              "[11, 11, 11, 11, 11, 11, 10, 10, 10, 10]"
            ]
          },
          "metadata": {
            "tags": []
          },
          "execution_count": 121
        }
      ]
    },
    {
      "cell_type": "code",
      "metadata": {
        "colab": {
          "base_uri": "https://localhost:8080/"
        },
        "id": "goIB_Yx_w8EA",
        "outputId": "3b6d21f9-d875-4bb1-a5fa-c44d633ec9f6"
      },
      "source": [
        "print('Longest distance:', sorted(results_list, reverse=True)[0])\n",
        "print('Average distance:', np.array(results_list).mean())\n",
        "print('Number of actors complying with the Six Degree rule:', len([i for i in results_list if i <= 6]))\n",
        "print('Number of actors:', len(added_actor))\n",
        "print('Number of actors not connected:', len(added_actor)-1-len(results_list))\n"
      ],
      "execution_count": null,
      "outputs": [
        {
          "output_type": "stream",
          "text": [
            "Longest distance: 11\n",
            "Average distance: 4.128369322412509\n",
            "Number of actors complying with the Six Degree rule: 19241\n",
            "Number of actors: 23215\n",
            "Number of actors not connected: 3069\n"
          ],
          "name": "stdout"
        }
      ]
    },
    {
      "cell_type": "code",
      "metadata": {
        "id": "qQvMB9mf41XW"
      },
      "source": [
        "random_actors = random.sample(added_actor, 3)"
      ],
      "execution_count": null,
      "outputs": []
    },
    {
      "cell_type": "code",
      "metadata": {
        "colab": {
          "base_uri": "https://localhost:8080/"
        },
        "id": "uDTUv8SI8E1T",
        "outputId": "d1ae1714-b5f8-4429-9f4e-3bed81beebb4"
      },
      "source": [
        "for a in random_actors:\n",
        "    path = nx.shortest_path(G,source=a,target='Kevin Bacon')\n",
        "    print('{0} has a Bacon score of: {1}'.format(a, int(len(path)/2)))\n",
        "    print(path)"
      ],
      "execution_count": null,
      "outputs": [
        {
          "output_type": "stream",
          "text": [
            "Henry Rollins has a Bacon score of: 4\n",
            "['Henry Rollins', 'He Never Died', 'Booboo Stewart', 'Grizzlies', 'Will Sasso', 'Movie 43', 'Matt Walsh', 'The Darkness', 'Kevin Bacon']\n",
            "Josh Hartnett has a Bacon score of: 2\n",
            "['Josh Hartnett', 'Black Hawk Down', 'Tom Guiry', 'Mystic River', 'Kevin Bacon']\n",
            "Simone Bailly has a Bacon score of: 3\n",
            "['Simone Bailly', 'Good Luck Chuck', 'Dan Fogler', 'The Guardian Brothers', 'Meryl Streep', 'The River Wild', 'Kevin Bacon']\n"
          ],
          "name": "stdout"
        }
      ]
    },
    {
      "cell_type": "code",
      "metadata": {
        "colab": {
          "base_uri": "https://localhost:8080/",
          "height": 879
        },
        "id": "KJBFEW2P8Mnz",
        "outputId": "466e3240-3f19-46b1-e3f3-79d28740a4ee"
      },
      "source": [
        "G_chart = nx.Graph()  # a new graph I spin up just for charting purposes\n",
        " \n",
        "# populate the new graph with the random actors and their paths to Kevin Bacon\n",
        "for a in random_actors:\n",
        "    nodes_in_path = nx.shortest_path(G, source=a, target='Kevin Bacon')\n",
        "    for n in nodes_in_path:\n",
        "        if not G_chart.has_node(n):\n",
        "            original_node = [a for a in G.nodes(data=True) if a[0]==n][0]\n",
        "            # add node and its data payload to the graph i'll use in my chart\n",
        "            G_chart.add_node(original_node[0], attr_dic = original_node[1])  \n",
        "    nx.add_path(G_chart, nodes_in_path)\n",
        "     \n",
        "fig, ax = plt.subplots(figsize=(20, 18))\n",
        " \n",
        "# networkx layouts can be really tricky: something you just have to play with\n",
        "pos = nx.spring_layout(G_chart, scale=0.25)\n",
        "#pos = nx.circular_layout(G_chart)\n",
        " \n",
        "color_map = [n[1]['attr_dic']['color'] for n in G_chart.nodes(data=True)]\n",
        "labels = {n:n for n in G_chart.nodes()}\n",
        " \n",
        "plt.title('Example of Six Degrees of Kevin Bacon', fontsize=15)\n",
        "ax.axis('off')\n",
        "nx.draw_networkx(G_chart, pos, node_color=color_map, alpha=0.5, labels=labels, with_labels=True, ax=ax, node_size=200, font_size=19, font_color='black')\n",
        " \n",
        "from matplotlib.lines import Line2D\n",
        "custom_legend = [Line2D([0], [0], marker='o', markerfacecolor='g', markersize=10, color='w', label='Actor'), \n",
        "                 Line2D([0], [0], marker='o', markerfacecolor='b', markersize=10, color='w', label='Movie'),\n",
        "                 Line2D([0], [0], marker='o', markerfacecolor='r', markersize=10, color='w', label='The Man Himself')]\n",
        "ax.legend(handles=custom_legend, loc='lower right', fontsize= 13)"
      ],
      "execution_count": null,
      "outputs": [
        {
          "output_type": "execute_result",
          "data": {
            "text/plain": [
              "<matplotlib.legend.Legend at 0x7fd826e3d550>"
            ]
          },
          "metadata": {
            "tags": []
          },
          "execution_count": 106
        },
        {
          "output_type": "display_data",
          "data": {
            "image/png": "[encoded data removed]",
            "text/plain": [
              "<Figure size 1440x1296 with 1 Axes>"
            ]
          },
          "metadata": {
            "tags": []
          }
        }
      ]
    },
    {
      "cell_type": "code",
      "metadata": {
        "id": "FUZhvMMM9thK"
      },
      "source": [
        ""
      ],
      "execution_count": null,
      "outputs": []
    },
    {
      "cell_type": "code",
      "metadata": {
        "id": "ZZ6SdKew-Upy"
      },
      "source": [
        ""
      ],
      "execution_count": null,
      "outputs": []
    }
  ]
}