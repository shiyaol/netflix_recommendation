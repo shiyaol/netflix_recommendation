{
  "nbformat": 4,
  "nbformat_minor": 0,
  "metadata": {
    "colab": {
      "name": "bigdata_final_project.ipynb",
      "provenance": []
    },
    "kernelspec": {
      "name": "python3",
      "display_name": "Python 3"
    },
    "language_info": {
      "name": "python"
    }
  },
  "cells": [
    {
      "cell_type": "code",
      "metadata": {
        "id": "0fr757bUcgRz"
      },
      "source": [
        "import numpy as np # linear algebra\n",
        "import pandas as pd # data processing, CSV file I/O (e.g. pd.read_csv)\n",
        "import matplotlib.pyplot as plt\n",
        "import seaborn as sns"
      ],
      "execution_count": null,
      "outputs": []
    },
    {
      "cell_type": "code",
      "metadata": {
        "colab": {
          "base_uri": "https://localhost:8080/"
        },
        "id": "Q-6ZhDpieNWA",
        "outputId": "78413c6e-b391-4468-fac7-6c494cf28dc7"
      },
      "source": [
        "!pip install pyspark\n",
        "!pip install -U -q PyDrive\n",
        "!apt install openjdk-8-jdk-headless -qq\n",
        "import os\n",
        "os.environ[\"JAVA_HOME\"] = \"/usr/lib/jvm/java-8-openjdk-amd64\""
      ],
      "execution_count": null,
      "outputs": [
        {
          "output_type": "stream",
          "text": [
            "Collecting pyspark\n",
            "\u001b[?25l  Downloading https://files.pythonhosted.org/packages/45/b0/9d6860891ab14a39d4bddf80ba26ce51c2f9dc4805e5c6978ac0472c120a/pyspark-3.1.1.tar.gz (212.3MB)\n",
            "\u001b[K     |████████████████████████████████| 212.3MB 71kB/s \n",
            "\u001b[?25hCollecting py4j==0.10.9\n",
            "\u001b[?25l  Downloading https://files.pythonhosted.org/packages/9e/b6/6a4fb90cd235dc8e265a6a2067f2a2c99f0d91787f06aca4bcf7c23f3f80/py4j-0.10.9-py2.py3-none-any.whl (198kB)\n",
            "\u001b[K     |████████████████████████████████| 204kB 40.4MB/s \n",
            "\u001b[?25hBuilding wheels for collected packages: pyspark\n",
            "  Building wheel for pyspark (setup.py) ... \u001b[?25l\u001b[?25hdone\n",
            "  Created wheel for pyspark: filename=pyspark-3.1.1-py2.py3-none-any.whl size=212767604 sha256=621837c70244325e56ca9089444bc175ee0ee3c344b4c2847f3c6d489961973f\n",
            "  Stored in directory: /root/.cache/pip/wheels/0b/90/c0/01de724414ef122bd05f056541fb6a0ecf47c7ca655f8b3c0f\n",
            "Successfully built pyspark\n",
            "Installing collected packages: py4j, pyspark\n",
            "Successfully installed py4j-0.10.9 pyspark-3.1.1\n",
            "The following package was automatically installed and is no longer required:\n",
            "  libnvidia-common-460\n",
            "Use 'apt autoremove' to remove it.\n",
            "The following additional packages will be installed:\n",
            "  openjdk-8-jre-headless\n",
            "Suggested packages:\n",
            "  openjdk-8-demo openjdk-8-source libnss-mdns fonts-dejavu-extra\n",
            "  fonts-ipafont-gothic fonts-ipafont-mincho fonts-wqy-microhei\n",
            "  fonts-wqy-zenhei fonts-indic\n",
            "The following NEW packages will be installed:\n",
            "  openjdk-8-jdk-headless openjdk-8-jre-headless\n",
            "0 upgraded, 2 newly installed, 0 to remove and 34 not upgraded.\n",
            "Need to get 36.5 MB of archives.\n",
            "After this operation, 143 MB of additional disk space will be used.\n",
            "Selecting previously unselected package openjdk-8-jre-headless:amd64.\n",
            "(Reading database ... 160690 files and directories currently installed.)\n",
            "Preparing to unpack .../openjdk-8-jre-headless_8u282-b08-0ubuntu1~18.04_amd64.deb ...\n",
            "Unpacking openjdk-8-jre-headless:amd64 (8u282-b08-0ubuntu1~18.04) ...\n",
            "Selecting previously unselected package openjdk-8-jdk-headless:amd64.\n",
            "Preparing to unpack .../openjdk-8-jdk-headless_8u282-b08-0ubuntu1~18.04_amd64.deb ...\n",
            "Unpacking openjdk-8-jdk-headless:amd64 (8u282-b08-0ubuntu1~18.04) ...\n",
            "Setting up openjdk-8-jre-headless:amd64 (8u282-b08-0ubuntu1~18.04) ...\n",
            "update-alternatives: using /usr/lib/jvm/java-8-openjdk-amd64/jre/bin/orbd to provide /usr/bin/orbd (orbd) in auto mode\n",
            "update-alternatives: using /usr/lib/jvm/java-8-openjdk-amd64/jre/bin/servertool to provide /usr/bin/servertool (servertool) in auto mode\n",
            "update-alternatives: using /usr/lib/jvm/java-8-openjdk-amd64/jre/bin/tnameserv to provide /usr/bin/tnameserv (tnameserv) in auto mode\n",
            "Setting up openjdk-8-jdk-headless:amd64 (8u282-b08-0ubuntu1~18.04) ...\n",
            "update-alternatives: using /usr/lib/jvm/java-8-openjdk-amd64/bin/idlj to provide /usr/bin/idlj (idlj) in auto mode\n",
            "update-alternatives: using /usr/lib/jvm/java-8-openjdk-amd64/bin/wsimport to provide /usr/bin/wsimport (wsimport) in auto mode\n",
            "update-alternatives: using /usr/lib/jvm/java-8-openjdk-amd64/bin/jsadebugd to provide /usr/bin/jsadebugd (jsadebugd) in auto mode\n",
            "update-alternatives: using /usr/lib/jvm/java-8-openjdk-amd64/bin/native2ascii to provide /usr/bin/native2ascii (native2ascii) in auto mode\n",
            "update-alternatives: using /usr/lib/jvm/java-8-openjdk-amd64/bin/javah to provide /usr/bin/javah (javah) in auto mode\n",
            "update-alternatives: using /usr/lib/jvm/java-8-openjdk-amd64/bin/hsdb to provide /usr/bin/hsdb (hsdb) in auto mode\n",
            "update-alternatives: using /usr/lib/jvm/java-8-openjdk-amd64/bin/clhsdb to provide /usr/bin/clhsdb (clhsdb) in auto mode\n",
            "update-alternatives: using /usr/lib/jvm/java-8-openjdk-amd64/bin/xjc to provide /usr/bin/xjc (xjc) in auto mode\n",
            "update-alternatives: using /usr/lib/jvm/java-8-openjdk-amd64/bin/schemagen to provide /usr/bin/schemagen (schemagen) in auto mode\n",
            "update-alternatives: using /usr/lib/jvm/java-8-openjdk-amd64/bin/extcheck to provide /usr/bin/extcheck (extcheck) in auto mode\n",
            "update-alternatives: using /usr/lib/jvm/java-8-openjdk-amd64/bin/jhat to provide /usr/bin/jhat (jhat) in auto mode\n",
            "update-alternatives: using /usr/lib/jvm/java-8-openjdk-amd64/bin/wsgen to provide /usr/bin/wsgen (wsgen) in auto mode\n"
          ],
          "name": "stdout"
        }
      ]
    },
    {
      "cell_type": "code",
      "metadata": {
        "id": "og2BNE7ueuAA"
      },
      "source": [
        "import pyspark\n",
        "from pyspark.sql import *\n",
        "from pyspark.sql.types import *\n",
        "from pyspark.sql.functions import *\n",
        "from pyspark import SparkContext, SparkConf"
      ],
      "execution_count": null,
      "outputs": []
    },
    {
      "cell_type": "markdown",
      "metadata": {
        "id": "0Zoal_ZpW70I"
      },
      "source": [
        "# Setting up PySpark environment"
      ]
    },
    {
      "cell_type": "code",
      "metadata": {
        "id": "A0I8qna-haGZ"
      },
      "source": [
        "conf = SparkConf().set(\"spark.ui.port\", \"4050\")\n",
        "# create the context\n",
        "sc = pyspark.SparkContext(conf=conf)\n",
        "spark = SparkSession.builder.getOrCreate()"
      ],
      "execution_count": null,
      "outputs": []
    },
    {
      "cell_type": "code",
      "metadata": {
        "id": "4KGY_sUTiLHP",
        "colab": {
          "base_uri": "https://localhost:8080/"
        },
        "outputId": "a25da49b-0f88-41e4-e769-5cd76cc59690"
      },
      "source": [
        "from google.colab import drive\n",
        "drive.mount('/content/drive')"
      ],
      "execution_count": null,
      "outputs": [
        {
          "output_type": "stream",
          "text": [
            "Mounted at /content/drive\n"
          ],
          "name": "stdout"
        }
      ]
    },
    {
      "cell_type": "code",
      "metadata": {
        "id": "x9wquFTniQcS",
        "colab": {
          "base_uri": "https://localhost:8080/"
        },
        "outputId": "e5ac6156-03e2-4f1d-b093-a2fa13a79a17"
      },
      "source": [
        "import os\n",
        "cur_path = \"/content/drive/MyDrive/bigdata_final\"\n",
        "os.chdir(cur_path)\n",
        "!pwd"
      ],
      "execution_count": null,
      "outputs": [
        {
          "output_type": "stream",
          "text": [
            "/content/drive/MyDrive/bigdata_final\n"
          ],
          "name": "stdout"
        }
      ]
    },
    {
      "cell_type": "code",
      "metadata": {
        "id": "PWiEStXGhjpx"
      },
      "source": [
        "df = pd.read_csv(\"netflix_titles.csv\")"
      ],
      "execution_count": null,
      "outputs": []
    },
    {
      "cell_type": "code",
      "metadata": {
        "id": "VgwzpRoi3uBJ"
      },
      "source": [
        "df_spark = spark.read.csv(\"/content/drive/MyDrive/bigdata_final/netflix_titles.csv\", header=True)"
      ],
      "execution_count": null,
      "outputs": []
    },
    {
      "cell_type": "markdown",
      "metadata": {
        "id": "_LpjMSWE7uPS"
      },
      "source": [
        "# Data preprocess"
      ]
    },
    {
      "cell_type": "code",
      "metadata": {
        "id": "43RVY3q0AUcC"
      },
      "source": [
        "from pyspark.sql.functions import lower, col"
      ],
      "execution_count": null,
      "outputs": []
    },
    {
      "cell_type": "markdown",
      "metadata": {
        "id": "mr0X02lSAv7F"
      },
      "source": [
        "## Extracting useful features:"
      ]
    },
    {
      "cell_type": "code",
      "metadata": {
        "id": "Wi3UGT_v78T6"
      },
      "source": [
        "df_low = df_spark.select('show_id', lower(col('director')).alias('director'),\n",
        "                lower(col('description')).alias('description'),\n",
        "                lower(col('title')).alias('title'),\n",
        "                lower(col('listed_in')).alias('listed_in'),\n",
        "                lower(col('type')).alias('type'))"
      ],
      "execution_count": null,
      "outputs": []
    },
    {
      "cell_type": "code",
      "metadata": {
        "colab": {
          "base_uri": "https://localhost:8080/"
        },
        "id": "ZGymm9w9DRTG",
        "outputId": "44b8f6bb-6c45-457d-9b62-925683de582f"
      },
      "source": [
        "df_spark.show()"
      ],
      "execution_count": null,
      "outputs": [
        {
          "output_type": "stream",
          "text": [
            "+-------+-------+------+--------------------+--------------------+--------------------+-----------------+------------+------+---------+--------------------+--------------------+\n",
            "|show_id|   type| title|            director|                cast|             country|       date_added|release_year|rating| duration|           listed_in|         description|\n",
            "+-------+-------+------+--------------------+--------------------+--------------------+-----------------+------------+------+---------+--------------------+--------------------+\n",
            "|     s1|TV Show|    3%|                null|João Miguel, Bian...|              Brazil|  August 14, 2020|        2020| TV-MA|4 Seasons|International TV ...|In a future where...|\n",
            "|     s2|  Movie|  7:19|   Jorge Michel Grau|Demián Bichir, Hé...|              Mexico|December 23, 2016|        2016| TV-MA|   93 min|Dramas, Internati...|After a devastati...|\n",
            "|     s3|  Movie| 23:59|        Gilbert Chan|Tedd Chan, Stella...|           Singapore|December 20, 2018|        2011|     R|   78 min|Horror Movies, In...|When an army recr...|\n",
            "|     s4|  Movie|     9|         Shane Acker|Elijah Wood, John...|       United States|November 16, 2017|        2009| PG-13|   80 min|Action & Adventur...|In a postapocalyp...|\n",
            "|     s5|  Movie|    21|      Robert Luketic|Jim Sturgess, Kev...|       United States|  January 1, 2020|        2008| PG-13|  123 min|              Dramas|A brilliant group...|\n",
            "|     s6|TV Show|    46|         Serdar Akar|Erdal Beşikçioğlu...|              Turkey|     July 1, 2017|        2016| TV-MA| 1 Season|International TV ...|A genetics profes...|\n",
            "|     s7|  Movie|   122|     Yasir Al Yasiri|Amina Khalil, Ahm...|               Egypt|     June 1, 2020|        2019| TV-MA|   95 min|Horror Movies, In...|After an awful ac...|\n",
            "|     s8|  Movie|   187|      Kevin Reynolds|Samuel L. Jackson...|       United States| November 1, 2019|        1997|     R|  119 min|              Dramas|After one of his ...|\n",
            "|     s9|  Movie|   706|       Shravan Kumar|Divya Dutta, Atul...|               India|    April 1, 2019|        2019| TV-14|  118 min|Horror Movies, In...|When a doctor goe...|\n",
            "|    s10|  Movie|  1920|        Vikram Bhatt|Rajneesh Duggal, ...|               India|December 15, 2017|        2008| TV-MA|  143 min|Horror Movies, In...|An architect and ...|\n",
            "|    s11|  Movie|  1922|        Zak Hilditch|Thomas Jane, Moll...|       United States| October 20, 2017|        2017| TV-MA|  103 min|   Dramas, Thrillers|A farmer pens a c...|\n",
            "|    s12|TV Show|  1983|                null|Robert Więckiewic...|Poland, United St...|November 30, 2018|        2018| TV-MA| 1 Season|Crime TV Shows, I...|In this dark alt-...|\n",
            "|    s13|TV Show|  1994|Diego Enrique Osorno|                null|              Mexico|     May 17, 2019|        2019| TV-MA| 1 Season|Crime TV Shows, D...|Archival video an...|\n",
            "|    s14|  Movie| 2,215| Nottapon Boonprakob|  Artiwara Kongmalai|            Thailand|    March 1, 2019|        2018| TV-MA|   89 min|Documentaries, In...|This intimate doc...|\n",
            "|    s15|  Movie|  3022|          John Suits|Omar Epps, Kate W...|       United States|   March 19, 2020|        2019|     R|   91 min|Independent Movie...|Stranded when the...|\n",
            "|    s16|  Movie|Oct-01|      Kunle Afolayan|Sadiq Daba, David...|             Nigeria|September 1, 2019|        2014| TV-14|  149 min|Dramas, Internati...|Against the backd...|\n",
            "|    s17|TV Show|Feb-09|                null|Shahd El Yaseen, ...|                null|   March 20, 2019|        2018| TV-14| 1 Season|International TV ...|As a psychology p...|\n",
            "|    s18|  Movie|22-Jul|     Paul Greengrass|Anders Danielsen ...|Norway, Iceland, ...| October 10, 2018|        2018|     R|  144 min|   Dramas, Thrillers|After devastating...|\n",
            "|    s19|  Movie|15-Aug|  Swapnaneel Jayakar|Rahul Pethe, Mrun...|               India|   March 29, 2019|        2019| TV-14|  124 min|Comedies, Dramas,...|On India's Indepe...|\n",
            "|    s20|  Movie|   '89|                null|Lee Dixon, Ian Wr...|      United Kingdom|     May 16, 2018|        2017| TV-PG|   87 min|       Sports Movies|Mixing old footag...|\n",
            "+-------+-------+------+--------------------+--------------------+--------------------+-----------------+------------+------+---------+--------------------+--------------------+\n",
            "only showing top 20 rows\n",
            "\n"
          ],
          "name": "stdout"
        }
      ]
    },
    {
      "cell_type": "markdown",
      "metadata": {
        "id": "0IxoIW8hKet2"
      },
      "source": [
        "## Apply tokenizer function to each column"
      ]
    },
    {
      "cell_type": "code",
      "metadata": {
        "id": "hwAgk3T_Kl_C"
      },
      "source": [
        "from pyspark.ml.feature import Tokenizer"
      ],
      "execution_count": null,
      "outputs": []
    },
    {
      "cell_type": "code",
      "metadata": {
        "id": "ssVA9TfeMVNw"
      },
      "source": [
        "tokenizer = Tokenizer(inputCol=\"director\", outputCol=\"director_words\")"
      ],
      "execution_count": null,
      "outputs": []
    },
    {
      "cell_type": "code",
      "metadata": {
        "id": "mQl0RAI7NaMl"
      },
      "source": [
        "t = tokenizer.transform(df_low)"
      ],
      "execution_count": null,
      "outputs": []
    },
    {
      "cell_type": "code",
      "metadata": {
        "id": "UUY2VklzN1nN"
      },
      "source": [
        "df = df.dropna(how='any')"
      ],
      "execution_count": null,
      "outputs": []
    },
    {
      "cell_type": "code",
      "metadata": {
        "id": "JE7QqgdGPvkX"
      },
      "source": [
        "df.drop(columns=['director', 'cast', 'country', 'date_added', 'release_year', 'rating', 'duration'], inplace=True)"
      ],
      "execution_count": null,
      "outputs": []
    },
    {
      "cell_type": "code",
      "metadata": {
        "colab": {
          "base_uri": "https://localhost:8080/"
        },
        "id": "jtyMkxEcQy9r",
        "outputId": "5a87ee22-b7e0-4a4e-b159-0a951c1b4bac"
      },
      "source": [
        "import nltk\n",
        "nltk.download('punkt')\n",
        "nltk.download('stopwords')"
      ],
      "execution_count": null,
      "outputs": [
        {
          "output_type": "stream",
          "text": [
            "[nltk_data] Downloading package punkt to /root/nltk_data...\n",
            "[nltk_data]   Unzipping tokenizers/punkt.zip.\n",
            "[nltk_data] Downloading package stopwords to /root/nltk_data...\n",
            "[nltk_data]   Unzipping corpora/stopwords.zip.\n"
          ],
          "name": "stdout"
        },
        {
          "output_type": "execute_result",
          "data": {
            "text/plain": [
              "True"
            ]
          },
          "metadata": {
            "tags": []
          },
          "execution_count": 28
        }
      ]
    },
    {
      "cell_type": "code",
      "metadata": {
        "id": "jxzjxlCkPhSx"
      },
      "source": [
        "from nltk.tokenize import word_tokenize\n",
        "\n",
        "df['title_words'] = df['title'].str.lower()\n",
        "df['listed_in'] = df['listed_in'].str.lower()\n",
        "df['description'] = df['description'].str.lower()\n",
        "df['type'] = df['type'].str.lower()\n",
        "\n",
        "df['title_words'] = df['title_words'].apply(word_tokenize)\n",
        "df['listed_in'] = df['listed_in'].apply(word_tokenize)\n",
        "df['description'] = df['description'].apply(word_tokenize)\n",
        "df['type'] = df['type'].apply(word_tokenize)"
      ],
      "execution_count": null,
      "outputs": []
    },
    {
      "cell_type": "code",
      "metadata": {
        "colab": {
          "base_uri": "https://localhost:8080/",
          "height": 597
        },
        "id": "DK2kIQvQQ2Bz",
        "outputId": "f4a2c037-7631-4241-c86d-c1e466916945"
      },
      "source": [
        "df"
      ],
      "execution_count": null,
      "outputs": [
        {
          "output_type": "execute_result",
          "data": {
            "text/html": [
              "<div>\n",
              "<style scoped>\n",
              "    .dataframe tbody tr th:only-of-type {\n",
              "        vertical-align: middle;\n",
              "    }\n",
              "\n",
              "    .dataframe tbody tr th {\n",
              "        vertical-align: top;\n",
              "    }\n",
              "\n",
              "    .dataframe thead th {\n",
              "        text-align: right;\n",
              "    }\n",
              "</style>\n",
              "<table border=\"1\" class=\"dataframe\">\n",
              "  <thead>\n",
              "    <tr style=\"text-align: right;\">\n",
              "      <th></th>\n",
              "      <th>show_id</th>\n",
              "      <th>type</th>\n",
              "      <th>title</th>\n",
              "      <th>listed_in</th>\n",
              "      <th>description</th>\n",
              "      <th>title_words</th>\n",
              "    </tr>\n",
              "  </thead>\n",
              "  <tbody>\n",
              "    <tr>\n",
              "      <th>0</th>\n",
              "      <td>s1</td>\n",
              "      <td>[tv, show]</td>\n",
              "      <td>3%</td>\n",
              "      <td>[international, tv, shows, ,, tv, dramas, ,, t...</td>\n",
              "      <td>[in, a, future, where, the, elite, inhabit, an...</td>\n",
              "      <td>[3, %]</td>\n",
              "    </tr>\n",
              "    <tr>\n",
              "      <th>1</th>\n",
              "      <td>s2</td>\n",
              "      <td>[movie]</td>\n",
              "      <td>7:19</td>\n",
              "      <td>[dramas, ,, international, movies]</td>\n",
              "      <td>[after, a, devastating, earthquake, hits, mexi...</td>\n",
              "      <td>[7:19]</td>\n",
              "    </tr>\n",
              "    <tr>\n",
              "      <th>2</th>\n",
              "      <td>s3</td>\n",
              "      <td>[movie]</td>\n",
              "      <td>23:59</td>\n",
              "      <td>[horror, movies, ,, international, movies]</td>\n",
              "      <td>[when, an, army, recruit, is, found, dead, ,, ...</td>\n",
              "      <td>[23:59]</td>\n",
              "    </tr>\n",
              "    <tr>\n",
              "      <th>3</th>\n",
              "      <td>s4</td>\n",
              "      <td>[movie]</td>\n",
              "      <td>9</td>\n",
              "      <td>[action, &amp;, adventure, ,, independent, movies,...</td>\n",
              "      <td>[in, a, postapocalyptic, world, ,, rag-doll, r...</td>\n",
              "      <td>[9]</td>\n",
              "    </tr>\n",
              "    <tr>\n",
              "      <th>4</th>\n",
              "      <td>s5</td>\n",
              "      <td>[movie]</td>\n",
              "      <td>21</td>\n",
              "      <td>[dramas]</td>\n",
              "      <td>[a, brilliant, group, of, students, become, ca...</td>\n",
              "      <td>[21]</td>\n",
              "    </tr>\n",
              "    <tr>\n",
              "      <th>...</th>\n",
              "      <td>...</td>\n",
              "      <td>...</td>\n",
              "      <td>...</td>\n",
              "      <td>...</td>\n",
              "      <td>...</td>\n",
              "      <td>...</td>\n",
              "    </tr>\n",
              "    <tr>\n",
              "      <th>7782</th>\n",
              "      <td>s7783</td>\n",
              "      <td>[movie]</td>\n",
              "      <td>Zozo</td>\n",
              "      <td>[dramas, ,, international, movies]</td>\n",
              "      <td>[when, lebanon, 's, civil, war, deprives, zozo...</td>\n",
              "      <td>[zozo]</td>\n",
              "    </tr>\n",
              "    <tr>\n",
              "      <th>7783</th>\n",
              "      <td>s7784</td>\n",
              "      <td>[movie]</td>\n",
              "      <td>Zubaan</td>\n",
              "      <td>[dramas, ,, international, movies, ,, music, &amp;...</td>\n",
              "      <td>[a, scrappy, but, poor, boy, worms, his, way, ...</td>\n",
              "      <td>[zubaan]</td>\n",
              "    </tr>\n",
              "    <tr>\n",
              "      <th>7784</th>\n",
              "      <td>s7785</td>\n",
              "      <td>[movie]</td>\n",
              "      <td>Zulu Man in Japan</td>\n",
              "      <td>[documentaries, ,, international, movies, ,, m...</td>\n",
              "      <td>[in, this, documentary, ,, south, african, rap...</td>\n",
              "      <td>[zulu, man, in, japan]</td>\n",
              "    </tr>\n",
              "    <tr>\n",
              "      <th>7785</th>\n",
              "      <td>s7786</td>\n",
              "      <td>[tv, show]</td>\n",
              "      <td>Zumbo's Just Desserts</td>\n",
              "      <td>[international, tv, shows, ,, reality, tv]</td>\n",
              "      <td>[dessert, wizard, adriano, zumbo, looks, for, ...</td>\n",
              "      <td>[zumbo, 's, just, desserts]</td>\n",
              "    </tr>\n",
              "    <tr>\n",
              "      <th>7786</th>\n",
              "      <td>s7787</td>\n",
              "      <td>[movie]</td>\n",
              "      <td>ZZ TOP: THAT LITTLE OL' BAND FROM TEXAS</td>\n",
              "      <td>[documentaries, ,, music, &amp;, musicals]</td>\n",
              "      <td>[this, documentary, delves, into, the, mystiqu...</td>\n",
              "      <td>[zz, top, :, that, little, ol, ', band, from, ...</td>\n",
              "    </tr>\n",
              "  </tbody>\n",
              "</table>\n",
              "<p>7787 rows × 6 columns</p>\n",
              "</div>"
            ],
            "text/plain": [
              "     show_id  ...                                        title_words\n",
              "0         s1  ...                                             [3, %]\n",
              "1         s2  ...                                             [7:19]\n",
              "2         s3  ...                                            [23:59]\n",
              "3         s4  ...                                                [9]\n",
              "4         s5  ...                                               [21]\n",
              "...      ...  ...                                                ...\n",
              "7782   s7783  ...                                             [zozo]\n",
              "7783   s7784  ...                                           [zubaan]\n",
              "7784   s7785  ...                             [zulu, man, in, japan]\n",
              "7785   s7786  ...                        [zumbo, 's, just, desserts]\n",
              "7786   s7787  ...  [zz, top, :, that, little, ol, ', band, from, ...\n",
              "\n",
              "[7787 rows x 6 columns]"
            ]
          },
          "metadata": {
            "tags": []
          },
          "execution_count": 161
        }
      ]
    },
    {
      "cell_type": "code",
      "metadata": {
        "id": "T6AxXO2RRweJ"
      },
      "source": [
        "from nltk.corpus import stopwords\n",
        "from string import punctuation\n",
        "\n",
        "list_stopwords = set(stopwords.words('english') + list(punctuation))\n",
        "df['title_words'] = df['title_words'].apply(lambda x: [word for word in x if word not in list_stopwords])\n",
        "df['listed_in'] = df['listed_in'].apply(lambda x: [word for word in x if word not in list_stopwords])\n",
        "df['description'] = df['description'].apply(lambda x: [word for word in x if word not in list_stopwords])\n",
        "df['type'] = df['type'].apply(lambda x: [word for word in x if word not in list_stopwords])"
      ],
      "execution_count": null,
      "outputs": []
    },
    {
      "cell_type": "code",
      "metadata": {
        "id": "Sl_NfcBdRzgr"
      },
      "source": [
        "import string\n",
        "\n",
        "df['description'] = df['description'].apply(lambda x : [word.translate(str.maketrans('', '', string.punctuation)) for word in x])\n",
        "df['description'] = df['description'].apply(lambda x : [word for word in x if len(word) > 0])"
      ],
      "execution_count": null,
      "outputs": []
    },
    {
      "cell_type": "code",
      "metadata": {
        "id": "PP8TEESoR1Oo"
      },
      "source": [
        "df['title_words'] = df['title_words'].apply(lambda x : list(set(x)))\n",
        "df['listed_in'] = df['listed_in'].apply(lambda x : list(set(x)))\n",
        "df['description'] = df['description'].apply(lambda x : list(set(x)))\n",
        "df['type'] = df['type'].apply(lambda x : list(set(x)))"
      ],
      "execution_count": null,
      "outputs": []
    },
    {
      "cell_type": "code",
      "metadata": {
        "colab": {
          "base_uri": "https://localhost:8080/",
          "height": 423
        },
        "id": "OE24MxjcSwfw",
        "outputId": "7e98234e-5757-4438-a46a-44671222b0ae"
      },
      "source": [
        "df"
      ],
      "execution_count": null,
      "outputs": [
        {
          "output_type": "execute_result",
          "data": {
            "text/html": [
              "<div>\n",
              "<style scoped>\n",
              "    .dataframe tbody tr th:only-of-type {\n",
              "        vertical-align: middle;\n",
              "    }\n",
              "\n",
              "    .dataframe tbody tr th {\n",
              "        vertical-align: top;\n",
              "    }\n",
              "\n",
              "    .dataframe thead th {\n",
              "        text-align: right;\n",
              "    }\n",
              "</style>\n",
              "<table border=\"1\" class=\"dataframe\">\n",
              "  <thead>\n",
              "    <tr style=\"text-align: right;\">\n",
              "      <th></th>\n",
              "      <th>show_id</th>\n",
              "      <th>type</th>\n",
              "      <th>title</th>\n",
              "      <th>listed_in</th>\n",
              "      <th>description</th>\n",
              "      <th>title_words</th>\n",
              "    </tr>\n",
              "  </thead>\n",
              "  <tbody>\n",
              "    <tr>\n",
              "      <th>1</th>\n",
              "      <td>s2</td>\n",
              "      <td>[movie]</td>\n",
              "      <td>7:19</td>\n",
              "      <td>[dramas, international, movies]</td>\n",
              "      <td>[alive, mexico, rescued, devastating, city, wa...</td>\n",
              "      <td>[7:19]</td>\n",
              "    </tr>\n",
              "    <tr>\n",
              "      <th>2</th>\n",
              "      <td>s3</td>\n",
              "      <td>[movie]</td>\n",
              "      <td>23:59</td>\n",
              "      <td>[international, horror, movies]</td>\n",
              "      <td>[haunting, dead, found, jungle, island, army, ...</td>\n",
              "      <td>[23:59]</td>\n",
              "    </tr>\n",
              "    <tr>\n",
              "      <th>3</th>\n",
              "      <td>s4</td>\n",
              "      <td>[movie]</td>\n",
              "      <td>9</td>\n",
              "      <td>[adventure, independent, action, sci-fi, fanta...</td>\n",
              "      <td>[postapocalyptic, machines, joins, world, fear...</td>\n",
              "      <td>[9]</td>\n",
              "    </tr>\n",
              "    <tr>\n",
              "      <th>4</th>\n",
              "      <td>s5</td>\n",
              "      <td>[movie]</td>\n",
              "      <td>21</td>\n",
              "      <td>[dramas]</td>\n",
              "      <td>[experts, intent, students, become, brilliant,...</td>\n",
              "      <td>[21]</td>\n",
              "    </tr>\n",
              "    <tr>\n",
              "      <th>5</th>\n",
              "      <td>s6</td>\n",
              "      <td>[tv, show]</td>\n",
              "      <td>46</td>\n",
              "      <td>[dramas, tv, mysteries, international, shows]</td>\n",
              "      <td>[medical, unlocks, shocking, genetics, blends,...</td>\n",
              "      <td>[46]</td>\n",
              "    </tr>\n",
              "    <tr>\n",
              "      <th>...</th>\n",
              "      <td>...</td>\n",
              "      <td>...</td>\n",
              "      <td>...</td>\n",
              "      <td>...</td>\n",
              "      <td>...</td>\n",
              "      <td>...</td>\n",
              "    </tr>\n",
              "    <tr>\n",
              "      <th>7778</th>\n",
              "      <td>s7779</td>\n",
              "      <td>[movie]</td>\n",
              "      <td>Zombieland</td>\n",
              "      <td>[comedies, horror, movies]</td>\n",
              "      <td>[zombies, urban, sisters, world, roughneck, co...</td>\n",
              "      <td>[zombieland]</td>\n",
              "    </tr>\n",
              "    <tr>\n",
              "      <th>7780</th>\n",
              "      <td>s7781</td>\n",
              "      <td>[movie]</td>\n",
              "      <td>Zoo</td>\n",
              "      <td>[dramas, independent, international, movies]</td>\n",
              "      <td>[addictions, rappers, brother, trade, two, slu...</td>\n",
              "      <td>[zoo]</td>\n",
              "    </tr>\n",
              "    <tr>\n",
              "      <th>7781</th>\n",
              "      <td>s7782</td>\n",
              "      <td>[movie]</td>\n",
              "      <td>Zoom</td>\n",
              "      <td>[comedies, family, children, movies]</td>\n",
              "      <td>[familiar, preps, military, villain, youthful,...</td>\n",
              "      <td>[zoom]</td>\n",
              "    </tr>\n",
              "    <tr>\n",
              "      <th>7782</th>\n",
              "      <td>s7783</td>\n",
              "      <td>[movie]</td>\n",
              "      <td>Zozo</td>\n",
              "      <td>[dramas, international, movies]</td>\n",
              "      <td>[zozo, sweden, little, war, civil, means, left...</td>\n",
              "      <td>[zozo]</td>\n",
              "    </tr>\n",
              "    <tr>\n",
              "      <th>7783</th>\n",
              "      <td>s7784</td>\n",
              "      <td>[movie]</td>\n",
              "      <td>Zubaan</td>\n",
              "      <td>[dramas, music, international, musicals, movies]</td>\n",
              "      <td>[truth, music, dysfunctional, way, scrappy, fe...</td>\n",
              "      <td>[zubaan]</td>\n",
              "    </tr>\n",
              "  </tbody>\n",
              "</table>\n",
              "<p>4808 rows × 6 columns</p>\n",
              "</div>"
            ],
            "text/plain": [
              "     show_id  ...   title_words\n",
              "1         s2  ...        [7:19]\n",
              "2         s3  ...       [23:59]\n",
              "3         s4  ...           [9]\n",
              "4         s5  ...          [21]\n",
              "5         s6  ...          [46]\n",
              "...      ...  ...           ...\n",
              "7778   s7779  ...  [zombieland]\n",
              "7780   s7781  ...         [zoo]\n",
              "7781   s7782  ...        [zoom]\n",
              "7782   s7783  ...        [zozo]\n",
              "7783   s7784  ...      [zubaan]\n",
              "\n",
              "[4808 rows x 6 columns]"
            ]
          },
          "metadata": {
            "tags": []
          },
          "execution_count": 33
        }
      ]
    },
    {
      "cell_type": "markdown",
      "metadata": {
        "id": "p3PY82mTIJGM"
      },
      "source": [
        "# Download the pretrained word2vec model"
      ]
    },
    {
      "cell_type": "code",
      "metadata": {
        "colab": {
          "base_uri": "https://localhost:8080/"
        },
        "id": "Cb41n8LdF89y",
        "outputId": "30385eb6-d58c-41c9-f250-fde45556fec1"
      },
      "source": [
        "!wget -c \"https://s3.amazonaws.com/dl4j-distribution/GoogleNews-vectors-negative300.bin.gz\"\n",
        "!gunzip GoogleNews-vectors-negative300.bin.gz"
      ],
      "execution_count": null,
      "outputs": [
        {
          "output_type": "stream",
          "text": [
            "--2021-04-25 22:02:27--  https://s3.amazonaws.com/dl4j-distribution/GoogleNews-vectors-negative300.bin.gz\n",
            "Resolving s3.amazonaws.com (s3.amazonaws.com)... 52.216.141.174\n",
            "Connecting to s3.amazonaws.com (s3.amazonaws.com)|52.216.141.174|:443... connected.\n",
            "HTTP request sent, awaiting response... 200 OK\n",
            "Length: 1647046227 (1.5G) [application/x-gzip]\n",
            "Saving to: ‘GoogleNews-vectors-negative300.bin.gz’\n",
            "\n",
            "GoogleNews-vectors- 100%[===================>]   1.53G  41.6MB/s    in 38s     \n",
            "\n",
            "2021-04-25 22:03:06 (41.4 MB/s) - ‘GoogleNews-vectors-negative300.bin.gz’ saved [1647046227/1647046227]\n",
            "\n",
            "gzip: GoogleNews-vectors-negative300.bin already exists; do you wish to overwrite (y or n)? n\n",
            "\tnot overwritten\n"
          ],
          "name": "stdout"
        }
      ]
    },
    {
      "cell_type": "code",
      "metadata": {
        "id": "2MsEdxqDHp1V"
      },
      "source": [
        "import gensim\n",
        "wv = gensim.models.KeyedVectors.load_word2vec_format(\"GoogleNews-vectors-negative300.bin\", binary=True)"
      ],
      "execution_count": null,
      "outputs": []
    },
    {
      "cell_type": "code",
      "metadata": {
        "id": "jAYuVXZ2IH-V"
      },
      "source": [
        "matrix_vocab = []\n",
        "for list_ in df.to_numpy():\n",
        "    list_[1] = [word for word in list_[1] if word in wv.vocab]\n",
        "    list_[3] = [word for word in list_[3] if word in wv.vocab]\n",
        "    list_[4] = [word for word in list_[4] if word in wv.vocab]\n",
        "    list_[5] = [word for word in list_[5] if word in wv.vocab]\n",
        "    matrix_vocab.append(list_)\n",
        "df_vocab = pd.DataFrame(matrix_vocab, columns=df.columns)"
      ],
      "execution_count": null,
      "outputs": []
    },
    {
      "cell_type": "code",
      "metadata": {
        "id": "XtkoP4wxTFzz"
      },
      "source": [
        "from tqdm import tqdm\n",
        "\n",
        "def recommendation(title):\n",
        "    matrix_netflix_title_vocab = []\n",
        "    for list_ in df[df['title'] == title].to_numpy():\n",
        "        list_[1] = [word for word in list_[1] if word in wv.vocab]\n",
        "        list_[3] = [word for word in list_[3] if word in wv.vocab]\n",
        "        list_[4] = [word for word in list_[4] if word in wv.vocab]\n",
        "        list_[5] = [word for word in list_[5] if word in wv.vocab]\n",
        "        matrix_netflix_title_vocab.append(list_)\n",
        "\n",
        "    matrix_similarity = []\n",
        "    \n",
        "    for list1 in matrix_vocab:\n",
        "        for list2 in matrix_netflix_title_vocab:\n",
        "            #score_title = wv.n_similarity(list1[5], list2[5])\n",
        "            score_type = wv.n_similarity(list1[1], list2[1])\n",
        "            score_catg = wv.n_similarity(list1[3], list2[3])\n",
        "            score_desc = wv.n_similarity(list1[4], list2[4])\n",
        "            #print(score_type)\n",
        "            try:\n",
        "                score_title = 0.5*wv.n_similarity(list1[5], list2[5])\n",
        "            except:\n",
        "                score_title = 0\n",
        "            if ((list1[2] != list2[2]) & (score_catg > 0.85)):\n",
        "                matrix_similarity.append([list1[2], list2[2], score_title, score_type, score_catg, score_desc])\n",
        "        #pbar.update()\n",
        "    #pbar.close()\n",
        "    df_netflix_similarity = pd.DataFrame(matrix_similarity, columns = ['recommendation', 'title','score_type','score_title', 'score_category', 'score_description'])\n",
        "    df_netflix_similarity['final_score'] = df_netflix_similarity['score_title'] + df_netflix_similarity['score_category'] + df_netflix_similarity['score_description']+ df_netflix_similarity['score_type']\n",
        "    return (df_netflix_similarity.sort_values(by=['final_score', 'score_category', 'score_description', 'score_title', 'score_type'], ascending=False).head(10))"
      ],
      "execution_count": null,
      "outputs": []
    },
    {
      "cell_type": "markdown",
      "metadata": {
        "id": "0Eh3Zj2GXED-"
      },
      "source": [
        "# Making Recommendation"
      ]
    },
    {
      "cell_type": "code",
      "metadata": {
        "colab": {
          "base_uri": "https://localhost:8080/",
          "height": 363
        },
        "id": "hnHPmOHxTaMJ",
        "outputId": "ed2365af-3af6-4c5a-fa53-490a3b0b365a"
      },
      "source": [
        "recommendation(\"Supergirl\")"
      ],
      "execution_count": null,
      "outputs": [
        {
          "output_type": "execute_result",
          "data": {
            "text/html": [
              "<div>\n",
              "<style scoped>\n",
              "    .dataframe tbody tr th:only-of-type {\n",
              "        vertical-align: middle;\n",
              "    }\n",
              "\n",
              "    .dataframe tbody tr th {\n",
              "        vertical-align: top;\n",
              "    }\n",
              "\n",
              "    .dataframe thead th {\n",
              "        text-align: right;\n",
              "    }\n",
              "</style>\n",
              "<table border=\"1\" class=\"dataframe\">\n",
              "  <thead>\n",
              "    <tr style=\"text-align: right;\">\n",
              "      <th></th>\n",
              "      <th>recommendation</th>\n",
              "      <th>title</th>\n",
              "      <th>score_type</th>\n",
              "      <th>score_title</th>\n",
              "      <th>score_category</th>\n",
              "      <th>score_description</th>\n",
              "      <th>final_score</th>\n",
              "    </tr>\n",
              "  </thead>\n",
              "  <tbody>\n",
              "    <tr>\n",
              "      <th>17</th>\n",
              "      <td>DC's Legends of Tomorrow</td>\n",
              "      <td>Supergirl</td>\n",
              "      <td>0.092983</td>\n",
              "      <td>1.000000</td>\n",
              "      <td>1.000000</td>\n",
              "      <td>0.587867</td>\n",
              "      <td>2.680850</td>\n",
              "    </tr>\n",
              "    <tr>\n",
              "      <th>48</th>\n",
              "      <td>Miraculous: Tales of Ladybug &amp; Cat Noir</td>\n",
              "      <td>Supergirl</td>\n",
              "      <td>0.211503</td>\n",
              "      <td>1.000000</td>\n",
              "      <td>0.865795</td>\n",
              "      <td>0.602604</td>\n",
              "      <td>2.679902</td>\n",
              "    </tr>\n",
              "    <tr>\n",
              "      <th>73</th>\n",
              "      <td>The Flash</td>\n",
              "      <td>Supergirl</td>\n",
              "      <td>0.097387</td>\n",
              "      <td>1.000000</td>\n",
              "      <td>0.904568</td>\n",
              "      <td>0.596589</td>\n",
              "      <td>2.598544</td>\n",
              "    </tr>\n",
              "    <tr>\n",
              "      <th>66</th>\n",
              "      <td>Superman Returns</td>\n",
              "      <td>Supergirl</td>\n",
              "      <td>0.226345</td>\n",
              "      <td>0.347143</td>\n",
              "      <td>0.909350</td>\n",
              "      <td>0.638760</td>\n",
              "      <td>2.121598</td>\n",
              "    </tr>\n",
              "    <tr>\n",
              "      <th>57</th>\n",
              "      <td>Scorpion King 5: Book of Souls</td>\n",
              "      <td>Supergirl</td>\n",
              "      <td>0.175592</td>\n",
              "      <td>0.347143</td>\n",
              "      <td>0.909350</td>\n",
              "      <td>0.574693</td>\n",
              "      <td>2.006778</td>\n",
              "    </tr>\n",
              "    <tr>\n",
              "      <th>42</th>\n",
              "      <td>La Leyenda del Diamante</td>\n",
              "      <td>Supergirl</td>\n",
              "      <td>0.153008</td>\n",
              "      <td>0.347143</td>\n",
              "      <td>0.874530</td>\n",
              "      <td>0.620473</td>\n",
              "      <td>1.995153</td>\n",
              "    </tr>\n",
              "    <tr>\n",
              "      <th>13</th>\n",
              "      <td>Chappie</td>\n",
              "      <td>Supergirl</td>\n",
              "      <td>0.196643</td>\n",
              "      <td>0.347143</td>\n",
              "      <td>0.909350</td>\n",
              "      <td>0.523589</td>\n",
              "      <td>1.976725</td>\n",
              "    </tr>\n",
              "    <tr>\n",
              "      <th>43</th>\n",
              "      <td>Legend of the Naga Pearls</td>\n",
              "      <td>Supergirl</td>\n",
              "      <td>0.177256</td>\n",
              "      <td>0.347143</td>\n",
              "      <td>0.874530</td>\n",
              "      <td>0.575657</td>\n",
              "      <td>1.974586</td>\n",
              "    </tr>\n",
              "    <tr>\n",
              "      <th>46</th>\n",
              "      <td>Marvel's Iron Man &amp; Hulk: Heroes United</td>\n",
              "      <td>Supergirl</td>\n",
              "      <td>0.180753</td>\n",
              "      <td>0.347143</td>\n",
              "      <td>0.909350</td>\n",
              "      <td>0.526424</td>\n",
              "      <td>1.963670</td>\n",
              "    </tr>\n",
              "    <tr>\n",
              "      <th>69</th>\n",
              "      <td>The Book of Eli</td>\n",
              "      <td>Supergirl</td>\n",
              "      <td>0.135930</td>\n",
              "      <td>0.347143</td>\n",
              "      <td>0.909350</td>\n",
              "      <td>0.565626</td>\n",
              "      <td>1.958049</td>\n",
              "    </tr>\n",
              "  </tbody>\n",
              "</table>\n",
              "</div>"
            ],
            "text/plain": [
              "                             recommendation  ... final_score\n",
              "17                 DC's Legends of Tomorrow  ...    2.680850\n",
              "48  Miraculous: Tales of Ladybug & Cat Noir  ...    2.679902\n",
              "73                                The Flash  ...    2.598544\n",
              "66                         Superman Returns  ...    2.121598\n",
              "57           Scorpion King 5: Book of Souls  ...    2.006778\n",
              "42                  La Leyenda del Diamante  ...    1.995153\n",
              "13                                  Chappie  ...    1.976725\n",
              "43                Legend of the Naga Pearls  ...    1.974586\n",
              "46  Marvel's Iron Man & Hulk: Heroes United  ...    1.963670\n",
              "69                          The Book of Eli  ...    1.958049\n",
              "\n",
              "[10 rows x 7 columns]"
            ]
          },
          "metadata": {
            "tags": []
          },
          "execution_count": 39
        }
      ]
    }
  ]
}